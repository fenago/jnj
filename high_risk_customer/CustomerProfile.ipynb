{
 "cells": [
  {
   "cell_type": "markdown",
   "id": "5e8955ec-64f5-487b-ba97-4f89b09b67c8",
   "metadata": {},
   "source": [
    "## Data Loading"
   ]
  },
  {
   "cell_type": "code",
   "execution_count": null,
   "id": "d337dc1a-6282-424b-8f01-aa1f06be0535",
   "metadata": {},
   "outputs": [],
   "source": [
    "# https://github.com/fenago/datasets/blob/main/default_credit.xls?raw=true\n",
    "\n",
    "# Import basic libraries\n",
    "import numpy as np \n",
    "import pandas as pd \n",
    "# import visualization libraries\n",
    "import seaborn as sns\n",
    "import matplotlib.pyplot as plt\n",
    "%matplotlib inline"
   ]
  },
  {
   "cell_type": "code",
   "execution_count": null,
   "id": "62b61b98-2a06-434e-b590-f175efcbdca2",
   "metadata": {},
   "outputs": [],
   "source": [
    "df = pd.read_excel('https://github.com/fenago/datasets/blob/main/default_credit.xls?raw=true')\n",
    "df.head(5)"
   ]
  },
  {
   "cell_type": "code",
   "execution_count": null,
   "id": "8681a6cb-4757-4646-a39e-1a9c27c6327d",
   "metadata": {},
   "outputs": [],
   "source": [
    "# Getting Meta Data Information about the dataset\n",
    "df.info()"
   ]
  },
  {
   "cell_type": "code",
   "execution_count": null,
   "id": "ee9d3e46-6a47-4bc6-b00b-de568b12825f",
   "metadata": {},
   "outputs": [],
   "source": [
    "df.describe().T"
   ]
  },
  {
   "cell_type": "code",
   "execution_count": null,
   "id": "f06549b5-e7d7-4379-8add-9f747b39ac93",
   "metadata": {},
   "outputs": [],
   "source": [
    "# Checking for Null Values \n",
    "df.isnull().sum()"
   ]
  },
  {
   "cell_type": "markdown",
   "id": "a33d71a6-9971-444e-b0d1-fb10793341f3",
   "metadata": {},
   "source": [
    "## Data Cleaning"
   ]
  },
  {
   "cell_type": "code",
   "execution_count": null,
   "id": "499db046-582f-4830-8679-deedce1049c2",
   "metadata": {},
   "outputs": [],
   "source": [
    "print('SEX ' + str(sorted(df['SEX'].unique())))\n",
    "print('EDUCATION ' + str(sorted(df['EDUCATION'].unique())))\n",
    "print('MARRIAGE ' + str(sorted(df['MARRIAGE'].unique())))\n",
    "print('PAY_0 ' + str(sorted(df['PAY_0'].unique())))\n",
    "print('default.payment.next.month ' + str(sorted(df['default payment next month'].unique())))"
   ]
  },
  {
   "cell_type": "code",
   "execution_count": null,
   "id": "a1698a03-3d84-480a-8474-2467c1aabf4b",
   "metadata": {},
   "outputs": [],
   "source": [
    "df = df.rename(columns={'default payment next month': 'DEFAULT', \n",
    "                        'PAY_0': 'PAY_1'})\n",
    "df.head()"
   ]
  },
  {
   "cell_type": "code",
   "execution_count": null,
   "id": "58c36242-b592-4059-9c83-9efbbe7b2be9",
   "metadata": {},
   "outputs": [],
   "source": [
    "fill = (df.EDUCATION == 0) | (df.EDUCATION == 5) | (df.EDUCATION == 6)\n",
    "df.loc[fill, 'EDUCATION'] = 4\n",
    "\n",
    "print('EDUCATION ' + str(sorted(df['EDUCATION'].unique())))"
   ]
  },
  {
   "cell_type": "markdown",
   "id": "a72f7f67-e5f7-41a9-9b8a-eb3c20b204fb",
   "metadata": {},
   "source": [
    "## To do:  Does Marriage look right? Analyze and fix it if it doesn't."
   ]
  },
  {
   "cell_type": "code",
   "execution_count": null,
   "id": "4ed66866-c386-4d64-a107-d85dd76a984d",
   "metadata": {},
   "outputs": [],
   "source": [
    "# Fix it here"
   ]
  },
  {
   "cell_type": "markdown",
   "id": "76f76572-25e7-4a4c-8f71-a5fed02c0fb2",
   "metadata": {},
   "source": [
    "## Data Science and Analytics"
   ]
  },
  {
   "cell_type": "code",
   "execution_count": null,
   "id": "f902fc43-c7b8-42f9-94dc-e01acb265099",
   "metadata": {},
   "outputs": [],
   "source": [
    "### Univariate Analysis"
   ]
  },
  {
   "cell_type": "code",
   "execution_count": null,
   "id": "211c2b8c-07e1-475e-8c1e-390d25b217df",
   "metadata": {},
   "outputs": [],
   "source": [
    "sns.countplot(x=\"DEFAULT\", data=df)"
   ]
  },
  {
   "cell_type": "code",
   "execution_count": null,
   "id": "52aa798a-b3b6-488a-92fd-f8e19de0df55",
   "metadata": {},
   "outputs": [],
   "source": [
    "df['DEFAULT'].value_counts()"
   ]
  },
  {
   "cell_type": "markdown",
   "id": "3b4012c8-d3d5-4734-85f0-098b1c51a7a7",
   "metadata": {},
   "source": [
    "### What insights can you pull from this Univariate analysis?  Document ALL insights"
   ]
  },
  {
   "cell_type": "markdown",
   "id": "ebfebae1-c0ab-4ad7-aac4-fa183599f8a9",
   "metadata": {},
   "source": [
    "#### Analyze Sex (1 is male / 2 is female), Education (1 grad school/2 college/3 high school/4 other), Marriage (1 Married/2 Single/3 Divorced).\n",
    "\n",
    "### Explore and include any other univariate features!"
   ]
  },
  {
   "cell_type": "markdown",
   "id": "9d5bdd68-8722-470c-9343-d63fc5257578",
   "metadata": {},
   "source": [
    "### Bivariate Analysis"
   ]
  },
  {
   "cell_type": "code",
   "execution_count": null,
   "id": "44060b3a-805c-4b91-b8d6-d5ea7720631b",
   "metadata": {},
   "outputs": [],
   "source": [
    "sns.set(rc={'figure.figsize':(15,10)})\n",
    "edu = sns.countplot(x='SEX', hue='DEFAULT', data=df)\n",
    "edu.set_xticklabels(['Male','Female'])\n",
    "plt.show()"
   ]
  },
  {
   "cell_type": "code",
   "execution_count": null,
   "id": "1b182f12-0583-4030-a460-89709a2fc7c0",
   "metadata": {},
   "outputs": [],
   "source": [
    "pd.crosstab(df.SEX,df.DEFAULT,margins=True)"
   ]
  },
  {
   "cell_type": "code",
   "execution_count": null,
   "id": "756c0fb4-4188-4273-a453-0d2bcf11bc9c",
   "metadata": {},
   "outputs": [],
   "source": [
    "pd.crosstab(df.SEX,df.DEFAULT,normalize='index',margins=True)"
   ]
  },
  {
   "cell_type": "markdown",
   "id": "50a0a0c5-a4d0-4f26-8752-c7859ad2e08d",
   "metadata": {},
   "source": [
    "### You  will evaluate the relationship between the EDUCATION, MARRIAGE and DEFAULT columns.  Explore and Document!"
   ]
  },
  {
   "cell_type": "markdown",
   "id": "d6058559-92ea-4cf6-bd36-89010ef08cc4",
   "metadata": {},
   "source": [
    "#### Pay close attention to Pay_1, Balance, and Age"
   ]
  },
  {
   "cell_type": "markdown",
   "id": "cdbde0b7-0c12-4ac8-b97f-2feede931e20",
   "metadata": {},
   "source": [
    "## Correlation"
   ]
  },
  {
   "cell_type": "markdown",
   "id": "459dea09-5d77-4c6d-81e6-6721c066b335",
   "metadata": {},
   "source": [
    "### Use google or any resource to generate a heatmap to analyze the correlation of the DEFAULT column with the other remaining columns of the DataFrame and visualize the analysis using a heatmap. By finding the correlation between these and the DEFAULT column, you can determine which features have a higher impact on the DEFAULT column and whether that impact is positive or negative."
   ]
  },
  {
   "cell_type": "code",
   "execution_count": null,
   "id": "3a067e5d-2d63-4a1f-9c92-d6fa8aa02fe4",
   "metadata": {},
   "outputs": [],
   "source": []
  },
  {
   "cell_type": "markdown",
   "id": "90ad70c3-11ab-4304-acbf-1c81c0c20715",
   "metadata": {},
   "source": [
    "## Building a Profile of a High-Risk Customer\n",
    "### Based on the analysis performed as a data scientist, you can now build a profile of the customer who is most likely to default. With this predicted customer profile, JNJ can take preventive steps (such as reducing credit limits or increasing the rate of interest) and can demand additional collateral from customers who are deemed to be high risk.\n",
    "\n",
    "### The customer who satisfies the majority of the following conditions can be classified as a high-risk customer. A high-risk customer is one who has a higher probability of default."
   ]
  },
  {
   "cell_type": "code",
   "execution_count": null,
   "id": "84105aea-9061-4f74-b768-d3f7a8580d95",
   "metadata": {},
   "outputs": [],
   "source": []
  }
 ],
 "metadata": {
  "kernelspec": {
   "display_name": "Python 3 (ipykernel)",
   "language": "python",
   "name": "python3"
  },
  "language_info": {
   "codemirror_mode": {
    "name": "ipython",
    "version": 3
   },
   "file_extension": ".py",
   "mimetype": "text/x-python",
   "name": "python",
   "nbconvert_exporter": "python",
   "pygments_lexer": "ipython3",
   "version": "3.10.5"
  }
 },
 "nbformat": 4,
 "nbformat_minor": 5
}
